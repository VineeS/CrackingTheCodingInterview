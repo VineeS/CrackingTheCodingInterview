{
  "nbformat": 4,
  "nbformat_minor": 0,
  "metadata": {
    "colab": {
      "name": "Ch1.ipynb",
      "provenance": [],
      "collapsed_sections": [],
      "authorship_tag": "ABX9TyOYSQxFpU9lVr3YORMFnm67",
      "include_colab_link": true
    },
    "kernelspec": {
      "name": "python3",
      "display_name": "Python 3"
    }
  },
  "cells": [
    {
      "cell_type": "markdown",
      "metadata": {
        "id": "view-in-github",
        "colab_type": "text"
      },
      "source": [
        "<a href=\"https://colab.research.google.com/github/VineeS/CrackingTheCodingInterview/blob/master/Ch1.ipynb\" target=\"_parent\"><img src=\"https://colab.research.google.com/assets/colab-badge.svg\" alt=\"Open In Colab\"/></a>"
      ]
    },
    {
      "cell_type": "code",
      "metadata": {
        "id": "E1O0wdATjWsy",
        "colab_type": "code",
        "colab": {
          "base_uri": "https://localhost:8080/",
          "height": 34
        },
        "outputId": "e8c2e617-194b-4063-db29-cf919f75f209"
      },
      "source": [
        "#1.1 Unique\n",
        "\n",
        "#Is Unique: Implement an algorithm to determine if a string has all unique characters. What if you cannot use additional data structures?\n",
        "string = \"waterr\"\n",
        "def isUnique(string):\n",
        "  return len(string)== len(set(string))\n",
        "isUnique(string)\n",
        "\n"
      ],
      "execution_count": 4,
      "outputs": [
        {
          "output_type": "execute_result",
          "data": {
            "text/plain": [
              "False"
            ]
          },
          "metadata": {
            "tags": []
          },
          "execution_count": 4
        }
      ]
    },
    {
      "cell_type": "code",
      "metadata": {
        "id": "pOgnqPntz2_L",
        "colab_type": "code",
        "colab": {
          "base_uri": "https://localhost:8080/",
          "height": 34
        },
        "outputId": "c2aa1181-077c-42eb-cf4d-d0d2d04c6b83"
      },
      "source": [
        "# Using DS hashTable\n",
        "string1 = \"hi\"\n",
        "def isunique(string1):\n",
        "  hash_table = {}\n",
        "  for i in string1:\n",
        "    if i in hash_table:\n",
        "      hash_table[i] +=1\n",
        "    else:\n",
        "      hash_table[i] = 1\n",
        "\n",
        "  return all(value == 1 for value in hash_table.values())\n",
        "\n",
        "      \n",
        "\n",
        "isunique(string1)"
      ],
      "execution_count": 5,
      "outputs": [
        {
          "output_type": "execute_result",
          "data": {
            "text/plain": [
              "True"
            ]
          },
          "metadata": {
            "tags": []
          },
          "execution_count": 5
        }
      ]
    },
    {
      "cell_type": "code",
      "metadata": {
        "id": "c2y3ylp-Ddey",
        "colab_type": "code",
        "colab": {
          "base_uri": "https://localhost:8080/",
          "height": 34
        },
        "outputId": "0797708a-9790-4e77-8502-d2a3d1807d94"
      },
      "source": [
        "# Using DS hashTable\n",
        "string1 = \"iihii\"\n",
        "\n",
        "def isunique(string1):\n",
        "  hash_table = {}\n",
        "  for i in string1:\n",
        "    if i in hash_table:\n",
        "      hash_table[i] +=1\n",
        "    else:\n",
        "      hash_table[i] = 1\n",
        "\n",
        "  flag=True\n",
        "  for value in hash_table.values():\n",
        "    if value!=1:\n",
        "      flag=False\n",
        "\n",
        "  return flag\n",
        "\n",
        "isunique(string1)"
      ],
      "execution_count": 6,
      "outputs": [
        {
          "output_type": "execute_result",
          "data": {
            "text/plain": [
              "False"
            ]
          },
          "metadata": {
            "tags": []
          },
          "execution_count": 6
        }
      ]
    },
    {
      "cell_type": "code",
      "metadata": {
        "id": "Rh86q5ML52X2",
        "colab_type": "code",
        "colab": {
          "base_uri": "https://localhost:8080/",
          "height": 479
        },
        "outputId": "668e3f7d-6bf8-4d8c-b535-72faef842cce"
      },
      "source": [
        "#1.2 Check Permutation: Given two strings, write a method to decide if one is a permutation of the other.\n",
        "\n",
        "\"\"\"Chapter 01 - Problem 02 - Check Permutation - CTCI 6th Edition page 90\n",
        "Problem Statement:\n",
        "Given two strings, write a method to decide if one is a permutation of the\n",
        "other.\n",
        "Example:\n",
        "(\"alex\", \"lexa\") -> True\n",
        "Solution:\n",
        "We assume that the input strings will contain only ASCII characters and that upper\n",
        "case characters are distinct from lower case ones i.e. \"Alex\" is not a permutation\n",
        "of \"alex\". We define a permutation as a rearrangement of characters i.e. two strings\n",
        "that are permutations of each other must contain exactly the same characters with the\n",
        "same frequency. If two strings have unequal length they cannot be permutations.\n",
        "We count character appearances using a 128 wide bit vector. We\n",
        "traverse each string one character at a time. Each time we observe a character, we flip\n",
        "the bit corresponding at the index corresponding to its ASCII value. If we traverse two\n",
        "strings which both contain exactly the same number of characters with the same character\n",
        "frequency, the bit vector will be all 0s at the end of the two traversals. This is because\n",
        "for two strings that are permutations, each bit will be flipped an even number of\n",
        "times in total.\n",
        "Time complexity: O(N) where N is the length of the linearly traversed strings.\n",
        "Space complexity: O(1) because bit vector does not scale with string length.\"\"\"\n",
        "\n",
        "def are_permutations(s1, s2):\n",
        "    if len(s1) != len(s2):  # unequal length means not permutations\n",
        "        return False\n",
        "    \n",
        "    character_counts = 128 * [0]  # create counts vector ie 128 times 0\n",
        "    print(character_counts)\n",
        "    for char in s1: \n",
        "        print(\"char-S1\",char)\n",
        "        index = ord(char) # unicode code point value of character\n",
        "        print(\"index-S1\",index)\n",
        "        print(\"character_counts[index]-S1\", character_counts[index])\n",
        "        character_counts[index] += 1  # count the number of each letter / substitute character_counts[65] = 1\n",
        "        print(\"character_counts[index]-S1\", character_counts[index])\n",
        "    for char in s2: \n",
        "        print(\"char-S2\",char)\n",
        "        index = ord(char) # unicode code point value of character\n",
        "        print(\"index-S2\",index)\n",
        "        print(\"character_counts[index]-S2\", character_counts[index])\n",
        "        character_counts[index] -= 1\n",
        "        print(\"character_counts[index]-S2\", character_counts[index])\n",
        "        if character_counts[index] < 0:\n",
        "            return False\n",
        "    return True\n",
        "\n",
        "s1 = \"AABC\"\n",
        "s2 = \"ADAE\"\n",
        "are_permutations(s1, s2)"
      ],
      "execution_count": 7,
      "outputs": [
        {
          "output_type": "stream",
          "text": [
            "[0, 0, 0, 0, 0, 0, 0, 0, 0, 0, 0, 0, 0, 0, 0, 0, 0, 0, 0, 0, 0, 0, 0, 0, 0, 0, 0, 0, 0, 0, 0, 0, 0, 0, 0, 0, 0, 0, 0, 0, 0, 0, 0, 0, 0, 0, 0, 0, 0, 0, 0, 0, 0, 0, 0, 0, 0, 0, 0, 0, 0, 0, 0, 0, 0, 0, 0, 0, 0, 0, 0, 0, 0, 0, 0, 0, 0, 0, 0, 0, 0, 0, 0, 0, 0, 0, 0, 0, 0, 0, 0, 0, 0, 0, 0, 0, 0, 0, 0, 0, 0, 0, 0, 0, 0, 0, 0, 0, 0, 0, 0, 0, 0, 0, 0, 0, 0, 0, 0, 0, 0, 0, 0, 0, 0, 0, 0, 0]\n",
            "char-S1 A\n",
            "index-S1 65\n",
            "character_counts[index]-S1 0\n",
            "character_counts[index]-S1 1\n",
            "char-S1 A\n",
            "index-S1 65\n",
            "character_counts[index]-S1 1\n",
            "character_counts[index]-S1 2\n",
            "char-S1 B\n",
            "index-S1 66\n",
            "character_counts[index]-S1 0\n",
            "character_counts[index]-S1 1\n",
            "char-S1 C\n",
            "index-S1 67\n",
            "character_counts[index]-S1 0\n",
            "character_counts[index]-S1 1\n",
            "char-S2 A\n",
            "index-S2 65\n",
            "character_counts[index]-S2 2\n",
            "character_counts[index]-S2 1\n",
            "char-S2 D\n",
            "index-S2 68\n",
            "character_counts[index]-S2 0\n",
            "character_counts[index]-S2 -1\n"
          ],
          "name": "stdout"
        },
        {
          "output_type": "execute_result",
          "data": {
            "text/plain": [
              "False"
            ]
          },
          "metadata": {
            "tags": []
          },
          "execution_count": 7
        }
      ]
    },
    {
      "cell_type": "code",
      "metadata": {
        "id": "3IrQ0sSo_k4e",
        "colab_type": "code",
        "colab": {
          "base_uri": "https://localhost:8080/",
          "height": 35
        },
        "outputId": "f7dbb4fc-1b4c-4c3c-fa54-6cd94623c9e3"
      },
      "source": [
        "#1.3  Replace spaces in the middle of a string with \"%20\" assuming the end of the You may assume that \n",
        "#the string has sufficient space at the end to hold the additional characters, \n",
        "#and that you are given the \"true\" length of the string.\n",
        "\n",
        "string = \"Mr John Smith  \" \n",
        "length = 13\n",
        "\n",
        "def urlify(string,length):\n",
        "    return string[:length].replace(' ', '%20')\n",
        "\n",
        "urlify(string,length)"
      ],
      "execution_count": 8,
      "outputs": [
        {
          "output_type": "execute_result",
          "data": {
            "application/vnd.google.colaboratory.intrinsic": {
              "type": "string"
            },
            "text/plain": [
              "'Mr%20John%20Smith'"
            ]
          },
          "metadata": {
            "tags": []
          },
          "execution_count": 8
        }
      ]
    },
    {
      "cell_type": "code",
      "metadata": {
        "id": "-rciVPSgEWBL",
        "colab_type": "code",
        "colab": {
          "base_uri": "https://localhost:8080/",
          "height": 317
        },
        "outputId": "57b82554-308b-414a-a11b-f52c3aa1d582"
      },
      "source": [
        "s = \" John is \"\n",
        "length = 7\n",
        "def URLify(s, length):\n",
        "    new_length = length\n",
        "    for i in range(len(s)):\n",
        "        if s[i] == ' ':\n",
        "            s.append(' ')\n",
        "            s.append(' ')\n",
        "            new_length += 2\n",
        "    for i in range(length-1, -1, -1):\n",
        "        if s[i] == ' ':\n",
        "            s[new_length-1] = '0'\n",
        "            s[new_length-2] = '2'\n",
        "            s[new_length-3] = '%'\n",
        "            new_length -= 3\n",
        "        else:\n",
        "            s[new_length-1] = s[i]\n",
        "            new_length -= 1\n",
        "  \n",
        "\n",
        "URLify(s, length)"
      ],
      "execution_count": 1,
      "outputs": [
        {
          "output_type": "error",
          "ename": "AttributeError",
          "evalue": "ignored",
          "traceback": [
            "\u001b[0;31m---------------------------------------------------------------------------\u001b[0m",
            "\u001b[0;31mAttributeError\u001b[0m                            Traceback (most recent call last)",
            "\u001b[0;32m<ipython-input-1-e67b9a1b7101>\u001b[0m in \u001b[0;36m<module>\u001b[0;34m()\u001b[0m\n\u001b[1;32m     19\u001b[0m \u001b[0;34m\u001b[0m\u001b[0m\n\u001b[1;32m     20\u001b[0m \u001b[0;34m\u001b[0m\u001b[0m\n\u001b[0;32m---> 21\u001b[0;31m \u001b[0mURLify\u001b[0m\u001b[0;34m(\u001b[0m\u001b[0ms\u001b[0m\u001b[0;34m,\u001b[0m \u001b[0mlength\u001b[0m\u001b[0;34m)\u001b[0m\u001b[0;34m\u001b[0m\u001b[0;34m\u001b[0m\u001b[0m\n\u001b[0m",
            "\u001b[0;32m<ipython-input-1-e67b9a1b7101>\u001b[0m in \u001b[0;36mURLify\u001b[0;34m(s, length)\u001b[0m\n\u001b[1;32m      5\u001b[0m     \u001b[0;32mfor\u001b[0m \u001b[0mi\u001b[0m \u001b[0;32min\u001b[0m \u001b[0mrange\u001b[0m\u001b[0;34m(\u001b[0m\u001b[0mlen\u001b[0m\u001b[0;34m(\u001b[0m\u001b[0ms\u001b[0m\u001b[0;34m)\u001b[0m\u001b[0;34m)\u001b[0m\u001b[0;34m:\u001b[0m\u001b[0;34m\u001b[0m\u001b[0;34m\u001b[0m\u001b[0m\n\u001b[1;32m      6\u001b[0m         \u001b[0;32mif\u001b[0m \u001b[0ms\u001b[0m\u001b[0;34m[\u001b[0m\u001b[0mi\u001b[0m\u001b[0;34m]\u001b[0m \u001b[0;34m==\u001b[0m \u001b[0;34m' '\u001b[0m\u001b[0;34m:\u001b[0m\u001b[0;34m\u001b[0m\u001b[0;34m\u001b[0m\u001b[0m\n\u001b[0;32m----> 7\u001b[0;31m             \u001b[0ms\u001b[0m\u001b[0;34m.\u001b[0m\u001b[0mappend\u001b[0m\u001b[0;34m(\u001b[0m\u001b[0;34m' '\u001b[0m\u001b[0;34m)\u001b[0m\u001b[0;34m\u001b[0m\u001b[0;34m\u001b[0m\u001b[0m\n\u001b[0m\u001b[1;32m      8\u001b[0m             \u001b[0ms\u001b[0m\u001b[0;34m.\u001b[0m\u001b[0mappend\u001b[0m\u001b[0;34m(\u001b[0m\u001b[0;34m' '\u001b[0m\u001b[0;34m)\u001b[0m\u001b[0;34m\u001b[0m\u001b[0;34m\u001b[0m\u001b[0m\n\u001b[1;32m      9\u001b[0m             \u001b[0mnew_length\u001b[0m \u001b[0;34m+=\u001b[0m \u001b[0;36m2\u001b[0m\u001b[0;34m\u001b[0m\u001b[0;34m\u001b[0m\u001b[0m\n",
            "\u001b[0;31mAttributeError\u001b[0m: 'str' object has no attribute 'append'"
          ]
        }
      ]
    },
    {
      "cell_type": "code",
      "metadata": {
        "id": "MFocX1-6U1vJ",
        "colab_type": "code",
        "colab": {
          "base_uri": "https://localhost:8080/",
          "height": 170
        },
        "outputId": "f175a235-76ac-4256-d1e4-98914657c915"
      },
      "source": [
        "#1.4 Palindrome parmutation\n",
        "#A palindrome is a word which is written the same both forwards and backwards. For instance, the word ‘madam’ is a palindrome.\n",
        "\"\"\"A permutation on the other hand is a rearrangement of letters. For instance, the words ‘pot’ and ‘top’ \n",
        "are all permutations since they have been formed from the same letters.\n",
        "To determine whether a string is a palindrome permutation we need to know whether once the string is permuted it actually forms a palindrome.\n",
        "Here is an example:\n",
        "The string ‘ayakk’ when permuted or rearranged forms the word ‘Kayak’\n",
        "The word ‘Kayak’ is a palindrome since it is the same both forwards and backwards.\n",
        "What are the properties of a palindrome permutation?\n",
        "Let’s look at the word K A Y A K for instance.\n",
        "You notice that most of the letters in the words have an occurrence of more than one and are even in number . \n",
        "There is only one letter that has a single occurrence. This is a property for all words which are palindrome permutations.\n",
        "Therefore, how do we go about the problem?\n",
        "We should loop through the string and check the occurrences of the letters in the string. N/B check whether they all have an \n",
        "even value except for at most one letter.\n",
        "Feel free to try this problem yourself before actually going forward to see my solution\n",
        "The best data structure to use here is a hash table. Time Complexity is O(n).\n",
        "S = \"TactCoa\"\n",
        "\"\"\"\n",
        "\n",
        "def ifPalPar(S):\n",
        "  S = S.replace(' ','')\n",
        "  k = S.lower()\n",
        "  hash = {}\n",
        "  for i in k:\n",
        "    if i in hash:\n",
        "      hash[i] +=1\n",
        "    else:\n",
        "      hash[i] = 1\n",
        "\n",
        "  print(hash)\n",
        "  odd_counter = 0\n",
        "  for key,value in hash.items():\n",
        "    print(\"value\",value)\n",
        "    if value%2!=0 and odd_counter == 0:\n",
        "      print(\"odd_counter\",odd_counter)\n",
        "      odd_counter +=1\n",
        "    elif value%2!=0 and odd_counter != 0:\n",
        "      print(\"odd_counter\",odd_counter)\n",
        "      return False\n",
        "  return True\n",
        "\n",
        "S = \"aabbcceaaf\"\n",
        "\n",
        "print(ifPalPar(S))\n",
        "# if got 1 odd value set odd_counter to 1 next time it will check for the "
      ],
      "execution_count": 18,
      "outputs": [
        {
          "output_type": "stream",
          "text": [
            "{'a': 4, 'b': 2, 'c': 2, 'e': 1, 'f': 1}\n",
            "value 4\n",
            "value 2\n",
            "value 2\n",
            "value 1\n",
            "odd_counter 0\n",
            "value 1\n",
            "odd_counter 1\n",
            "False\n"
          ],
          "name": "stdout"
        }
      ]
    }
  ]
}
