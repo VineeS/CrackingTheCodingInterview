{
  "nbformat": 4,
  "nbformat_minor": 0,
  "metadata": {
    "colab": {
      "name": "Ch1.ipynb",
      "provenance": [],
      "collapsed_sections": [],
      "authorship_tag": "ABX9TyOoQCCEANnWcXKIiOLc4EqY",
      "include_colab_link": true
    },
    "kernelspec": {
      "name": "python3",
      "display_name": "Python 3"
    }
  },
  "cells": [
    {
      "cell_type": "markdown",
      "metadata": {
        "id": "view-in-github",
        "colab_type": "text"
      },
      "source": [
        "<a href=\"https://colab.research.google.com/github/VineeS/CrackingTheCodingInterview/blob/master/Ch1.ipynb\" target=\"_parent\"><img src=\"https://colab.research.google.com/assets/colab-badge.svg\" alt=\"Open In Colab\"/></a>"
      ]
    },
    {
      "cell_type": "code",
      "metadata": {
        "id": "E1O0wdATjWsy",
        "colab_type": "code",
        "colab": {
          "base_uri": "https://localhost:8080/",
          "height": 34
        },
        "outputId": "f8c31b57-f79b-4e8b-e6e9-76fd93393935"
      },
      "source": [
        "#1.1 Unique\n",
        "\n",
        "#Is Unique: Implement an algorithm to determine if a string has all unique characters. What if you cannot use additional data structures?\n",
        "string = \"waterr\"\n",
        "def isUnique(string):\n",
        "  return len(string)== len(set(string))\n",
        "isUnique(string)\n",
        "\n"
      ],
      "execution_count": 37,
      "outputs": [
        {
          "output_type": "execute_result",
          "data": {
            "text/plain": [
              "False"
            ]
          },
          "metadata": {
            "tags": []
          },
          "execution_count": 37
        }
      ]
    },
    {
      "cell_type": "code",
      "metadata": {
        "id": "pOgnqPntz2_L",
        "colab_type": "code",
        "colab": {
          "base_uri": "https://localhost:8080/",
          "height": 34
        },
        "outputId": "9919cf5b-2d00-4187-b134-cb4bf525a19c"
      },
      "source": [
        "# Using DS hashTable\n",
        "string1 = \"hi\"\n",
        "def isunique(string1):\n",
        "  hash_table = {}\n",
        "  for i in string1:\n",
        "    if i in hash_table:\n",
        "      hash_table[i] +=1\n",
        "    else:\n",
        "      hash_table[i] = 1\n",
        "\n",
        "  return all(value == 1 for value in hash_table.values())\n",
        "\n",
        "      \n",
        "\n",
        "isunique(string1)"
      ],
      "execution_count": 43,
      "outputs": [
        {
          "output_type": "execute_result",
          "data": {
            "text/plain": [
              "True"
            ]
          },
          "metadata": {
            "tags": []
          },
          "execution_count": 43
        }
      ]
    },
    {
      "cell_type": "code",
      "metadata": {
        "id": "c2y3ylp-Ddey",
        "colab_type": "code",
        "colab": {
          "base_uri": "https://localhost:8080/",
          "height": 34
        },
        "outputId": "ed2a170e-a1ac-454c-be1f-bb66a4ada49e"
      },
      "source": [
        "# Using DS hashTable\n",
        "string1 = \"iihii\"\n",
        "\n",
        "def isunique(string1):\n",
        "  hash_table = {}\n",
        "  for i in string1:\n",
        "    if i in hash_table:\n",
        "      hash_table[i] +=1\n",
        "    else:\n",
        "      hash_table[i] = 1\n",
        "\n",
        "  flag=True\n",
        "  for value in hash_table.values():\n",
        "    if value!=1:\n",
        "      flag=False\n",
        "\n",
        "  return flag\n",
        "\n",
        "isunique(string1)"
      ],
      "execution_count": 55,
      "outputs": [
        {
          "output_type": "execute_result",
          "data": {
            "text/plain": [
              "False"
            ]
          },
          "metadata": {
            "tags": []
          },
          "execution_count": 55
        }
      ]
    },
    {
      "cell_type": "code",
      "metadata": {
        "id": "Rh86q5ML52X2",
        "colab_type": "code",
        "colab": {
          "base_uri": "https://localhost:8080/",
          "height": 479
        },
        "outputId": "ef8a12db-e7ca-4313-f723-2383d65f8821"
      },
      "source": [
        "#1.2 Check Permutation: Given two strings, write a method to decide if one is a permutation of the other.\n",
        "\n",
        "\"\"\"Chapter 01 - Problem 02 - Check Permutation - CTCI 6th Edition page 90\n",
        "Problem Statement:\n",
        "Given two strings, write a method to decide if one is a permutation of the\n",
        "other.\n",
        "Example:\n",
        "(\"alex\", \"lexa\") -> True\n",
        "Solution:\n",
        "We assume that the input strings will contain only ASCII characters and that upper\n",
        "case characters are distinct from lower case ones i.e. \"Alex\" is not a permutation\n",
        "of \"alex\". We define a permutation as a rearrangement of characters i.e. two strings\n",
        "that are permutations of each other must contain exactly the same characters with the\n",
        "same frequency. If two strings have unequal length they cannot be permutations.\n",
        "We count character appearances using a 128 wide bit vector. We\n",
        "traverse each string one character at a time. Each time we observe a character, we flip\n",
        "the bit corresponding at the index corresponding to its ASCII value. If we traverse two\n",
        "strings which both contain exactly the same number of characters with the same character\n",
        "frequency, the bit vector will be all 0s at the end of the two traversals. This is because\n",
        "for two strings that are permutations, each bit will be flipped an even number of\n",
        "times in total.\n",
        "Time complexity: O(N) where N is the length of the linearly traversed strings.\n",
        "Space complexity: O(1) because bit vector does not scale with string length.\"\"\"\n",
        "\n",
        "def are_permutations(s1, s2):\n",
        "    if len(s1) != len(s2):  # unequal length means not permutations\n",
        "        return False\n",
        "    \n",
        "    character_counts = 128 * [0]  # create counts vector ie 128 times 0\n",
        "    print(character_counts)\n",
        "    for char in s1: \n",
        "        print(\"char-S1\",char)\n",
        "        index = ord(char) # unicode code point value of character\n",
        "        print(\"index-S1\",index)\n",
        "        print(\"character_counts[index]-S1\", character_counts[index])\n",
        "        character_counts[index] += 1  # count the number of each letter / substitute character_counts[65] = 1\n",
        "        print(\"character_counts[index]-S1\", character_counts[index])\n",
        "    for char in s2: \n",
        "        print(\"char-S2\",char)\n",
        "        index = ord(char) # unicode code point value of character\n",
        "        print(\"index-S2\",index)\n",
        "        print(\"character_counts[index]-S2\", character_counts[index])\n",
        "        character_counts[index] -= 1\n",
        "        print(\"character_counts[index]-S2\", character_counts[index])\n",
        "        if character_counts[index] < 0:\n",
        "            return False\n",
        "    return True\n",
        "\n",
        "s1 = \"AABC\"\n",
        "s2 = \"ADAE\"\n",
        "are_permutations(s1, s2)"
      ],
      "execution_count": 74,
      "outputs": [
        {
          "output_type": "stream",
          "text": [
            "[0, 0, 0, 0, 0, 0, 0, 0, 0, 0, 0, 0, 0, 0, 0, 0, 0, 0, 0, 0, 0, 0, 0, 0, 0, 0, 0, 0, 0, 0, 0, 0, 0, 0, 0, 0, 0, 0, 0, 0, 0, 0, 0, 0, 0, 0, 0, 0, 0, 0, 0, 0, 0, 0, 0, 0, 0, 0, 0, 0, 0, 0, 0, 0, 0, 0, 0, 0, 0, 0, 0, 0, 0, 0, 0, 0, 0, 0, 0, 0, 0, 0, 0, 0, 0, 0, 0, 0, 0, 0, 0, 0, 0, 0, 0, 0, 0, 0, 0, 0, 0, 0, 0, 0, 0, 0, 0, 0, 0, 0, 0, 0, 0, 0, 0, 0, 0, 0, 0, 0, 0, 0, 0, 0, 0, 0, 0, 0]\n",
            "char-S1 A\n",
            "index-S1 65\n",
            "character_counts[index]-S1 0\n",
            "character_counts[index]-S1 1\n",
            "char-S1 A\n",
            "index-S1 65\n",
            "character_counts[index]-S1 1\n",
            "character_counts[index]-S1 2\n",
            "char-S1 B\n",
            "index-S1 66\n",
            "character_counts[index]-S1 0\n",
            "character_counts[index]-S1 1\n",
            "char-S1 C\n",
            "index-S1 67\n",
            "character_counts[index]-S1 0\n",
            "character_counts[index]-S1 1\n",
            "char-S2 A\n",
            "index-S2 65\n",
            "character_counts[index]-S2 2\n",
            "character_counts[index]-S2 1\n",
            "char-S2 D\n",
            "index-S2 68\n",
            "character_counts[index]-S2 0\n",
            "character_counts[index]-S2 -1\n"
          ],
          "name": "stdout"
        },
        {
          "output_type": "execute_result",
          "data": {
            "text/plain": [
              "False"
            ]
          },
          "metadata": {
            "tags": []
          },
          "execution_count": 74
        }
      ]
    }
  ]
}